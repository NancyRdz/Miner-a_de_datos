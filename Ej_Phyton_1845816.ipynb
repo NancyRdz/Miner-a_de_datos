{
  "nbformat": 4,
  "nbformat_minor": 0,
  "metadata": {
    "colab": {
      "name": "Untitled1.ipynb",
      "provenance": [],
      "authorship_tag": "ABX9TyPdDSAlxLLeYLe+Uo6Mxynb",
      "include_colab_link": true
    },
    "kernelspec": {
      "name": "python3",
      "display_name": "Python 3"
    },
    "language_info": {
      "name": "python"
    }
  },
  "cells": [
    {
      "cell_type": "markdown",
      "metadata": {
        "id": "view-in-github",
        "colab_type": "text"
      },
      "source": [
        "<a href=\"https://colab.research.google.com/github/NancyRdz/Miner-a_de_datos/blob/main/Ej_Phyton_1845816.ipynb\" target=\"_parent\"><img src=\"https://colab.research.google.com/assets/colab-badge.svg\" alt=\"Open In Colab\"/></a>"
      ]
    },
    {
      "cell_type": "code",
      "metadata": {
        "id": "50KaAXEAiCqM"
      },
      "source": [
        "#Ejercicio 1\n",
        "a=1845816\n",
        "b=\"Nancy Janeth Rodríguez Pacheco\"\n",
        "print(a,b)"
      ],
      "execution_count": null,
      "outputs": []
    },
    {
      "cell_type": "code",
      "metadata": {
        "id": "np25bbfqjE-A"
      },
      "source": [
        "#Ejercicio 2\n",
        "a=int(input(\"Introduce un número: \"))\n",
        "b=int(input(\"Introduce otro número: \"))\n",
        "c=a+b\n",
        "d=a*b\n",
        "e=a-b\n",
        "f=a/b\n",
        "g=a**b\n",
        "print(\"El primer número es: \", a)\n",
        "print(\"El segundo número es: \",b)\n",
        "print(\"La suma es: \", c)\n",
        "print(\"El producto es: \", d)\n",
        "print(\"La resta es: \", e)\n",
        "print(\"La división es: \", f)\n",
        "print(\"El resultado de elevar \", a, \"a la \", b, \"es: \", g)"
      ],
      "execution_count": null,
      "outputs": []
    },
    {
      "cell_type": "code",
      "metadata": {
        "id": "tMZV9EGYmHg3"
      },
      "source": [
        "#Ejercicio 3\n",
        "i=2\n",
        "num=[3]\n",
        "while i<=10:\n",
        "  num.insert(i, i*3)\n",
        "  i=i+1\n",
        "print(num)\n",
        "i=0\n",
        "suma=0\n",
        "while i<10:\n",
        "  suma=suma+num[i]\n",
        "  i=i+2\n",
        "print (suma)"
      ],
      "execution_count": null,
      "outputs": []
    },
    {
      "cell_type": "code",
      "metadata": {
        "id": "2UH2JMdx4Djs"
      },
      "source": [
        "#https://ellibrodepython.com/numeros-primos-python#:~:text=Para%20determinar%20si%20un%20n%C3%BAmero,es%20primo%20y%20devolvemos%20False%20.\n",
        "#Ejercicio 4\n",
        "a=0\n",
        "while a == 0:\n",
        "  print(\"Introuce un número\")\n",
        "  x=input()\n",
        "  try:\n",
        "    print(\"El número es:\",float(x))\n",
        "    a=1\n",
        "  except ValueError:\n",
        "    print(\"Introduce un número\")\n",
        "    a=0\n",
        "y=float(x)\n",
        "if y%2==0:\n",
        "  print(\"El número es par\")\n",
        "else:\n",
        "  print(\"El número es impar\")\n",
        "z=y-1\n",
        "i=2\n",
        "b=0 \n",
        "while i<=z:\n",
        "  if y%i!=0:\n",
        "    b=b+0\n",
        "  else:\n",
        "    b=b+1\n",
        "  i=i+1\n",
        "if b==0:\n",
        "  print(\"El número es primo\")\n",
        "else:\n",
        "  print(\"El número no es primo\")"
      ],
      "execution_count": null,
      "outputs": []
    },
    {
      "cell_type": "code",
      "metadata": {
        "id": "JQDgQ4N05mrr"
      },
      "source": [
        "#Ejercicio 5\n",
        "a=int(input(\"Introduce un número: \"))\n",
        "b=int(input(\"Introduce otro número: \"))\n",
        "\n",
        "def Suma(a,b):\n",
        "    c=a+b\n",
        "    return c\n",
        "\n",
        "def Resta(a,b):\n",
        "    c=a-b\n",
        "    return c\n",
        "\n",
        "def Multiplicacion(a,b):\n",
        "    c=a*b\n",
        "    return c\n",
        "    \n",
        "def Division(a,b):\n",
        "    c=a/b\n",
        "    return c\n",
        "    \n",
        "def Exponente(a,b):\n",
        "    c=a**b\n",
        "    return c\n",
        "\n",
        "d=str(input(\"¿Qué operación desea realizar?: \"))\n",
        "\n",
        "if d==\"Suma\":\n",
        "  print (\"Suma(a,b) -->\", Suma(a,b))\n",
        "elif d==\"Resta\":\n",
        "  print (\"Resta(a,b) -->\", Resta(a,b))\n",
        "elif d==\"Multiplicacion\":\n",
        "  print (\"Multiplicacion(a,b) -->\", Multiplicacion(a,b))\n",
        "elif d==\"Division\":\n",
        "  print (\"Division(a,b) -->\", Division(a,b))\n",
        "elif d==\"Exponente\":\n",
        "  print (\"Exponente(a,b) -->\", Exponente(a,b))"
      ],
      "execution_count": null,
      "outputs": []
    },
    {
      "cell_type": "code",
      "metadata": {
        "id": "vn2gC4TsGF9f"
      },
      "source": [
        "#Tuplas_1\n",
        "a=1.23456\n",
        "b=1\n",
        "c=True\n",
        "d=1+2j\n",
        "\n",
        "print(type(a))\n",
        "print(type(b))\n",
        "print(type(c))\n",
        "print(type(d))"
      ],
      "execution_count": null,
      "outputs": []
    },
    {
      "cell_type": "code",
      "metadata": {
        "id": "MB4OKYwiH1L7"
      },
      "source": [
        "#Tuplas_2\n",
        "tup=(2,4,6,8,10,12,14,16,18,20)\n",
        "print(\"Primer elemento: \", tup[0])\n",
        "print(\"Último elemento: \",tup[9])"
      ],
      "execution_count": null,
      "outputs": []
    },
    {
      "cell_type": "code",
      "metadata": {
        "id": "fChZfyQFIbYm"
      },
      "source": [
        "#Tuplas_3\n",
        "aux=list(tup)\n",
        "aux.append(\"Hola\")\n",
        "aux.append(\"mucho\")\n",
        "aux.append(\"gusto\")\n",
        "tup=tuple(aux)\n",
        "print(\"Tupla: \",tup)"
      ],
      "execution_count": null,
      "outputs": []
    },
    {
      "cell_type": "code",
      "metadata": {
        "id": "xrDi7u8QJee8"
      },
      "source": [
        "#Tuplas_4\n",
        "a=\"Hola\"\n",
        "print(\"¿El elemento se encuentra en la tupla?\",a in tup)"
      ],
      "execution_count": null,
      "outputs": []
    },
    {
      "cell_type": "code",
      "metadata": {
        "id": "x8nuId8hKQBz"
      },
      "source": [
        "#Listas_1\n",
        "import random\n",
        "lst=[0]*40\n",
        "\n",
        "for i in range(40):\n",
        "  lst[i]=random.randrange(0,500)\n",
        "\n",
        "print(lst)"
      ],
      "execution_count": null,
      "outputs": []
    },
    {
      "cell_type": "code",
      "metadata": {
        "id": "t8xvYoEuLt0l"
      },
      "source": [
        "#Listas_2\n",
        "def num_par(l):\n",
        "  x=list()\n",
        "  for i in range (40):\n",
        "    if l[i]%2==0:\n",
        "      x.append(l[i])\n",
        "  return x\n",
        "\n",
        "def num_impar(l):\n",
        "  x=list()\n",
        "  for i in range(40):\n",
        "    if l[i]%2!=0:\n",
        "      x.append(l[i])\n",
        "  return x\n",
        "\n",
        "lista1=num_par(lst)\n",
        "lista2=num_impar(lst)\n",
        "\n",
        "print(lista1)\n",
        "print(lista2)"
      ],
      "execution_count": null,
      "outputs": []
    },
    {
      "cell_type": "code",
      "metadata": {
        "id": "iDf0gh02Ou0C"
      },
      "source": [
        "#Listas_3\n",
        "lon1=len (lista1)\n",
        "lon2=len (lista2)\n",
        "\n",
        "print(lon1)\n",
        "print (lon2)"
      ],
      "execution_count": null,
      "outputs": []
    },
    {
      "cell_type": "code",
      "metadata": {
        "id": "bxe8t_YTUQVK"
      },
      "source": [
        "#Listas_4\n",
        "lista1.sort(reverse=True)\n",
        "lista2.sort()\n",
        "\n",
        "print(lista1)\n",
        "print(lista2)"
      ],
      "execution_count": null,
      "outputs": []
    },
    {
      "cell_type": "code",
      "metadata": {
        "id": "m9ElX0_YUbaK"
      },
      "source": [
        "#Listas_5\n",
        "lst.reverse()\n",
        "print(lst)\n",
        "x=lst.count(29)\n",
        "print(x)\n",
        "lst.insert(2,100)\n",
        "print(lst)\n",
        "lst.clear()\n",
        "print(lst)"
      ],
      "execution_count": null,
      "outputs": []
    },
    {
      "cell_type": "code",
      "metadata": {
        "id": "j4ktOWsuUhAu"
      },
      "source": [
        "#Diccionarios_1\n",
        "dicc={\"Juany\":68, \"Rosario\":44, \"Jorge\":25, \"Gustavo\":12, \"Armando\":46, \"Silvia\":56}\n",
        "print(dicc)"
      ],
      "execution_count": null,
      "outputs": []
    },
    {
      "cell_type": "code",
      "metadata": {
        "id": "nZE35lQwUrsd"
      },
      "source": [
        "#Diccionarios_2\n",
        "val=list(dicc.values())\n",
        "val.sort()\n",
        "print(val)"
      ],
      "execution_count": null,
      "outputs": []
    },
    {
      "cell_type": "code",
      "metadata": {
        "id": "PqQLlYcnUvd-"
      },
      "source": [
        "#Diccionarios_3\n",
        "for key in dicc:\n",
        "  print(key)"
      ],
      "execution_count": null,
      "outputs": []
    },
    {
      "cell_type": "code",
      "metadata": {
        "id": "EQbTlSoSVuSq"
      },
      "source": [
        "#Diccionarios_4\n",
        "dicc[\"Ismael\"]=55\n",
        "dicc[\"Kerim\"]=2\n",
        "print(dicc)"
      ],
      "execution_count": null,
      "outputs": []
    },
    {
      "cell_type": "code",
      "metadata": {
        "id": "lp8qTmvjVziG"
      },
      "source": [
        "#Sets_1\n",
        "num_al=set()\n",
        "for i in range (100):\n",
        "  num_al.add(random.randrange(1,25))\n",
        "print(num_al)"
      ],
      "execution_count": null,
      "outputs": []
    },
    {
      "cell_type": "code",
      "metadata": {
        "id": "AWetMVwEVz1Y"
      },
      "source": [
        "#Sets_2\n",
        "print(len(num_al))"
      ],
      "execution_count": null,
      "outputs": []
    },
    {
      "cell_type": "code",
      "metadata": {
        "id": "R1ZOJqHWWhjy"
      },
      "source": [
        "#Sets_3\n",
        "set=[0]*5\n",
        "for i in range(5):\n",
        "  set[i]=random.randrange(1,11)\n",
        "if set[i] in num_al:\n",
        "  print(\"El valor %d aparece en el set inicial\"%set[i])\n",
        "else:\n",
        "  print(\"El valor %d no aparece en el set inicial\"%set[i])"
      ],
      "execution_count": null,
      "outputs": []
    }
  ]
}